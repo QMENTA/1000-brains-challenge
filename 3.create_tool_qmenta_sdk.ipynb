{
 "cells": [
  {
   "cell_type": "markdown",
   "metadata": {},
   "source": [
    "Using the [QMENTA SDK](https://www.qmenta.com/sdk/) you can easily package and deploy your predictive model to the QMENTA Platform in order to run it in a scalable cloud environment.\n",
    "You can learn more about the SDK from a technical perspective at https://docs.qmenta.com/sdk/."
   ]
  },
  {
   "cell_type": "markdown",
   "metadata": {},
   "source": [
    "If you registered to the QMENTA Platform using the **promotional code** shown in [1.qmenta_client_download_data.ipynb](./1.qmenta_client_download_data.ipynb), you already have **developer access** to the platform. \n",
    "\n",
    "With this level of access you can create, edit and delete **analysis tools** in the platform. You will first neeed to package your applications into a Docker container image, and then upload it to [Docker Hub](https://hub.docker.com/) so that the platform can fetch it and securely run it."
   ]
  },
  {
   "cell_type": "markdown",
   "metadata": {},
   "source": [
    "![My Tools view](./assets/my_tools.png)"
   ]
  },
  {
   "cell_type": "markdown",
   "metadata": {},
   "source": [
    "In this Jupyter notebook we will show you how to:\n",
    "- Write an script that does the prediction and is integrated with the QMENTA Platform via the QMENTA SDK\n",
    "- Build a Docker image that packages everything needed to perform inference\n",
    "- Upload the produced Docker image to Docker Hub\n",
    "- Register our tool in **My Tools**\n",
    "- Run the tool on one subject of the project"
   ]
  },
  {
   "cell_type": "markdown",
   "metadata": {},
   "source": [
    "# 1. Prepare the SDK script"
   ]
  },
  {
   "cell_type": "markdown",
   "metadata": {},
   "source": [
    "Our script will basically load the persisted model from disk, load the data to be predicted from disk and run inference on this model using the loaded data. On top of that, the script will communicate with the platform in order to download input data and resources, set the progress of the analysis and finally upload the results back to the platform, so that they can be accessed via the web interface."
   ]
  },
  {
   "cell_type": "markdown",
   "metadata": {},
   "source": [
    "An example of such script can be found in [predict_age.py](./predict_age.py)"
   ]
  },
  {
   "cell_type": "markdown",
   "metadata": {},
   "source": [
    "In order to understand the mechanics of SDK tool development please check this [documentation page](https://docs.qmenta.com/sdk/using_sdk.html)."
   ]
  },
  {
   "cell_type": "markdown",
   "metadata": {},
   "source": [
    "# 2. Build the Docker Image"
   ]
  },
  {
   "cell_type": "markdown",
   "metadata": {},
   "source": [
    "### Install Docker"
   ]
  },
  {
   "cell_type": "markdown",
   "metadata": {},
   "source": [
    "Head over to the [Get Docker](https://docs.docker.com/install/#desktop) documentation page and follow the **Docker Community Edition** installation process for your platform of choice."
   ]
  },
  {
   "cell_type": "markdown",
   "metadata": {},
   "source": [
    "### Use a Dockerfile"
   ]
  },
  {
   "cell_type": "markdown",
   "metadata": {},
   "source": [
    "A Dockerfile allows you to programatically specify how you build the Docker images without having to manually modify a container and create a snapshot of it."
   ]
  },
  {
   "cell_type": "markdown",
   "metadata": {},
   "source": [
    "You can check the example [Dockerfile](./Dockerfile) included in this repository. For more details about the Dockefile syntax check the documentation [here](https://docs.docker.com/engine/reference/builder/)."
   ]
  },
  {
   "cell_type": "markdown",
   "metadata": {},
   "source": [
    "### Build the image"
   ]
  },
  {
   "cell_type": "markdown",
   "metadata": {},
   "source": [
    "We will use the `docker build` command to build our Docker image, that later we will push to the default public Docker registry (DockerHub)"
   ]
  },
  {
   "cell_type": "markdown",
   "metadata": {},
   "source": [
    "First open a terminal and type the following commands:\n",
    "```\n",
    "user@hostname : ~ $ cd ~/qmenta_cnic_1000_brains_challenge/\n",
    "user@hostname : ~ $ mkdir docker_build\n",
    "```"
   ]
  },
  {
   "cell_type": "markdown",
   "metadata": {},
   "source": [
    "In this `docker_build` folder we will put all the necessary files to package our application as a Docker image. Assuming that you have cloned this repository in `~/1000_brains_challenge`:\n",
    "```\n",
    "user@hostname : ~ $ cp ~/1000_brains_challenge/Dockerfile ./docker_build/Dockerfile\n",
    "user@hostname : ~ $ cp ~/1000_brains_challenge/predict_age.py ./docker_build/predict_age.py\n",
    "user@hostname : ~ $ cp ~/1000_brains_challenge/environment.yml ./docker_build/environment.yml\n",
    "user@hostname : ~ $ cp ~/qmenta_cnic_1000_brains_challenge/models/linear_regression_example.pkl ./docker_build/linear_regression_example.pkl\n",
    "```"
   ]
  },
  {
   "cell_type": "markdown",
   "metadata": {},
   "source": [
    "Finally we will run the docker build command:\n",
    "```\n",
    "user@hostname : ~ $ docker build -t 1000_brains_example ./docker_build\n",
    "```"
   ]
  },
  {
   "cell_type": "markdown",
   "metadata": {},
   "source": [
    "# 3. Upload your Docker image to DockerHub"
   ]
  },
  {
   "cell_type": "markdown",
   "metadata": {},
   "source": [
    "First you will need to [create an account in DockerHub](https://hub.docker.com/). By creating an account you will have the possibility to upload all your images to DockerHub and make them available to anybody. The [Free Account plan](https://hub.docker.com/billing-plans/) also includes one private image, which can only be accessed with your credentials."
   ]
  },
  {
   "cell_type": "markdown",
   "metadata": {},
   "source": [
    "TODO: Continue here"
   ]
  },
  {
   "cell_type": "markdown",
   "metadata": {},
   "source": [
    "# 4. Register your tool"
   ]
  },
  {
   "cell_type": "markdown",
   "metadata": {},
   "source": [
    "# 5. Run the tool in the platform"
   ]
  },
  {
   "cell_type": "code",
   "execution_count": null,
   "metadata": {},
   "outputs": [],
   "source": []
  }
 ],
 "metadata": {
  "kernelspec": {
   "display_name": "Python 3",
   "language": "python",
   "name": "python3"
  },
  "language_info": {
   "codemirror_mode": {
    "name": "ipython",
    "version": 3
   },
   "file_extension": ".py",
   "mimetype": "text/x-python",
   "name": "python",
   "nbconvert_exporter": "python",
   "pygments_lexer": "ipython3",
   "version": "3.6.5"
  }
 },
 "nbformat": 4,
 "nbformat_minor": 2
}
